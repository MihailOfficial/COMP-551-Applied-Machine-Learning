{
  "cells": [
    {
      "cell_type": "code",
      "execution_count": 25,
      "metadata": {
        "id": "BGu4DpDrMYRl"
      },
      "outputs": [],
      "source": [
        "import torch\n",
        "import torch.nn as nn\n",
        "import torch.optim as optim\n",
        "import torchvision\n",
        "import numpy as np\n",
        "import matplotlib as plt\n",
        "import time\n",
        "import matplotlib.pyplot as plt\n"
      ]
    },
    {
      "cell_type": "code",
      "execution_count": 34,
      "metadata": {
        "id": "JZEVnnCPZ5qu"
      },
      "outputs": [],
      "source": [
        "device = torch.device(\"cuda:0\" if torch.cuda.is_available() else \"cpu\")"
      ]
    },
    {
      "cell_type": "markdown",
      "source": [
        "TASK 6 - TRAIN CNN on Fashin MNIST\n"
      ],
      "metadata": {
        "id": "PB6lR-MkbnsX"
      }
    },
    {
      "cell_type": "code",
      "execution_count": 8,
      "metadata": {
        "colab": {
          "base_uri": "https://localhost:8080/"
        },
        "id": "swZXcVjoPXVS",
        "outputId": "85c3e841-80d9-4968-ff86-81a4bdd081f2"
      },
      "outputs": [
        {
          "output_type": "stream",
          "name": "stdout",
          "text": [
            "Downloading http://fashion-mnist.s3-website.eu-central-1.amazonaws.com/train-images-idx3-ubyte.gz\n",
            "Downloading http://fashion-mnist.s3-website.eu-central-1.amazonaws.com/train-images-idx3-ubyte.gz to ./data/FashionMNIST/raw/train-images-idx3-ubyte.gz\n"
          ]
        },
        {
          "output_type": "stream",
          "name": "stderr",
          "text": [
            "100%|██████████| 26421880/26421880 [00:01<00:00, 13260238.65it/s]\n"
          ]
        },
        {
          "output_type": "stream",
          "name": "stdout",
          "text": [
            "Extracting ./data/FashionMNIST/raw/train-images-idx3-ubyte.gz to ./data/FashionMNIST/raw\n",
            "\n",
            "Downloading http://fashion-mnist.s3-website.eu-central-1.amazonaws.com/train-labels-idx1-ubyte.gz\n",
            "Downloading http://fashion-mnist.s3-website.eu-central-1.amazonaws.com/train-labels-idx1-ubyte.gz to ./data/FashionMNIST/raw/train-labels-idx1-ubyte.gz\n"
          ]
        },
        {
          "output_type": "stream",
          "name": "stderr",
          "text": [
            "100%|██████████| 29515/29515 [00:00<00:00, 210012.63it/s]\n"
          ]
        },
        {
          "output_type": "stream",
          "name": "stdout",
          "text": [
            "Extracting ./data/FashionMNIST/raw/train-labels-idx1-ubyte.gz to ./data/FashionMNIST/raw\n",
            "\n",
            "Downloading http://fashion-mnist.s3-website.eu-central-1.amazonaws.com/t10k-images-idx3-ubyte.gz\n",
            "Downloading http://fashion-mnist.s3-website.eu-central-1.amazonaws.com/t10k-images-idx3-ubyte.gz to ./data/FashionMNIST/raw/t10k-images-idx3-ubyte.gz\n"
          ]
        },
        {
          "output_type": "stream",
          "name": "stderr",
          "text": [
            "100%|██████████| 4422102/4422102 [00:01<00:00, 3931485.54it/s]\n"
          ]
        },
        {
          "output_type": "stream",
          "name": "stdout",
          "text": [
            "Extracting ./data/FashionMNIST/raw/t10k-images-idx3-ubyte.gz to ./data/FashionMNIST/raw\n",
            "\n",
            "Downloading http://fashion-mnist.s3-website.eu-central-1.amazonaws.com/t10k-labels-idx1-ubyte.gz\n",
            "Downloading http://fashion-mnist.s3-website.eu-central-1.amazonaws.com/t10k-labels-idx1-ubyte.gz to ./data/FashionMNIST/raw/t10k-labels-idx1-ubyte.gz\n"
          ]
        },
        {
          "output_type": "stream",
          "name": "stderr",
          "text": [
            "100%|██████████| 5148/5148 [00:00<00:00, 22848970.36it/s]"
          ]
        },
        {
          "output_type": "stream",
          "name": "stdout",
          "text": [
            "Extracting ./data/FashionMNIST/raw/t10k-labels-idx1-ubyte.gz to ./data/FashionMNIST/raw\n",
            "\n"
          ]
        },
        {
          "output_type": "stream",
          "name": "stderr",
          "text": [
            "\n"
          ]
        }
      ],
      "source": [
        "import torch\n",
        "import torch.nn as nn\n",
        "import torch.optim as optim\n",
        "import torchvision\n",
        "\n",
        "transform = torchvision.transforms.Compose([torchvision.transforms.ToTensor()])\n",
        "\n",
        "trainset = torchvision.datasets.FashionMNIST(root='./data', train=True, download=True, transform=transform)\n",
        "testset = torchvision.datasets.FashionMNIST(root='./data', train=False, download=True, transform=transform)\n",
        "\n",
        "batch_size = 32\n",
        "trainloader = torch.utils.data.DataLoader(trainset, batch_size=batch_size, shuffle=True)\n",
        "testloader = torch.utils.data.DataLoader(trainset, batch_size=batch_size, shuffle=True)\n"
      ]
    },
    {
      "cell_type": "code",
      "execution_count": 10,
      "metadata": {
        "colab": {
          "base_uri": "https://localhost:8080/"
        },
        "id": "XUK6hedaP5K7",
        "outputId": "923d7954-38fe-43b3-a6c5-52d536737032"
      },
      "outputs": [
        {
          "output_type": "stream",
          "name": "stderr",
          "text": [
            "/usr/local/lib/python3.10/dist-packages/torch/utils/data/dataloader.py:557: UserWarning: This DataLoader will create 4 worker processes in total. Our suggested max number of worker in current system is 2, which is smaller than what this DataLoader is going to create. Please be aware that excessive worker creation might get DataLoader running slow or even freeze, lower the worker number to avoid potential slowness/freeze if necessary.\n",
            "  warnings.warn(_create_warning_msg(\n"
          ]
        },
        {
          "output_type": "stream",
          "name": "stdout",
          "text": [
            "Epoch 0: model accuracy 88.38%\n",
            "Epoch 1: model accuracy 89.35%\n",
            "Epoch 2: model accuracy 90.77%\n",
            "Epoch 3: model accuracy 92.01%\n",
            "Epoch 4: model accuracy 94.18%\n",
            "Epoch 5: model accuracy 94.28%\n",
            "Epoch 6: model accuracy 95.23%\n",
            "Epoch 7: model accuracy 95.50%\n",
            "Epoch 8: model accuracy 96.59%\n",
            "Epoch 9: model accuracy 97.35%\n",
            "Epoch 10: model accuracy 97.50%\n",
            "Epoch 11: model accuracy 96.97%\n",
            "Epoch 12: model accuracy 97.48%\n",
            "Epoch 13: model accuracy 98.69%\n",
            "Epoch 14: model accuracy 98.44%\n",
            "Epoch 15: model accuracy 98.57%\n",
            "Epoch 16: model accuracy 98.92%\n",
            "Epoch 17: model accuracy 98.39%\n",
            "Epoch 18: model accuracy 98.71%\n",
            "Epoch 19: model accuracy 98.62%\n",
            "482.10972452163696\n"
          ]
        }
      ],
      "source": [
        "\n",
        "class FashionMNISTmodel(nn.Module):\n",
        "    def __init__(self):\n",
        "        super(FashionMNISTmodel, self).__init__()\n",
        "        self.conv1 = nn.Conv2d(in_channels=1, out_channels=64, kernel_size=3, stride=1, padding=1)\n",
        "        self.relu1 = nn.ReLU()\n",
        "        self.pool1 = nn.MaxPool2d(kernel_size=2, stride=2)\n",
        "\n",
        "        self.conv2 = nn.Conv2d(in_channels=64, out_channels=128, kernel_size=3, stride=1, padding=1)\n",
        "        self.relu2 = nn.ReLU()\n",
        "        self.pool2 = nn.MaxPool2d(kernel_size=2, stride=2)\n",
        "\n",
        "        self.flatten = nn.Flatten()\n",
        "\n",
        "        self.fc1 = nn.Linear(128 * 7 * 7, 128)\n",
        "        self.relu3 = nn.ReLU()\n",
        "\n",
        "        self.fc2 = nn.Linear(128, 128)\n",
        "        self.relu4 = nn.ReLU()\n",
        "\n",
        "        self.fc3 = nn.Linear(128, 10)\n",
        "\n",
        "    def forward(self, x):\n",
        "        x = self.pool1(self.relu1(self.conv1(x)))\n",
        "        x = self.pool2(self.relu2(self.conv2(x)))\n",
        "        x = self.flatten(x)\n",
        "        x = self.relu3(self.fc1(x))\n",
        "        x = self.relu4(self.fc2(x))\n",
        "        x = self.fc3(x)\n",
        "        return x\n",
        "start_time = time.time()\n",
        "\n",
        "model = FashionMNISTmodel().to(device)\n",
        "trainloader = torch.utils.data.DataLoader(trainset, batch_size=batch_size, shuffle=True, num_workers=4)\n",
        "testloader = torch.utils.data.DataLoader(trainset, batch_size=batch_size, shuffle=True, num_workers=4)\n",
        "\n",
        "optimizer = optim.SGD(model.parameters(), lr=0.01, momentum=0.9)\n",
        "accuracy_0_9_fashion_mnist = []\n",
        "n_epochs = 20\n",
        "loss_fn = nn.CrossEntropyLoss()\n",
        "for epoch in range(n_epochs):\n",
        "    for inputs, labels in trainloader:\n",
        "        inputs, labels = inputs.to(device), labels.to(device)\n",
        "        y_pred = model(inputs)\n",
        "        loss = loss_fn(y_pred, labels)\n",
        "        optimizer.zero_grad()\n",
        "        loss.backward()\n",
        "        optimizer.step()\n",
        "\n",
        "    acc = 0\n",
        "    count = 0\n",
        "    for inputs, labels in testloader:\n",
        "        inputs, labels = inputs.to(device), labels.to(device)\n",
        "        y_pred = model(inputs)\n",
        "        acc += (torch.argmax(y_pred, 1) == labels).float().sum()\n",
        "        count += len(labels)\n",
        "    acc /= count\n",
        "    accuracy_0_9_fashion_mnist.append((epoch, acc*100))\n",
        "    print(\"Epoch %d: model accuracy %.2f%%\" % (epoch, acc*100))\n",
        "\n",
        "end_time = time.time()\n",
        "elapsed_time = end_time - start_time\n",
        "\n",
        "print(elapsed_time)"
      ]
    },
    {
      "cell_type": "code",
      "source": [
        "\n",
        "# Extract the accuracy values\n",
        "accuracies_0_9_fashion_mnist = [val[1].cpu().numpy() for val in accuracy_0_9_fashion_mnist]\n",
        "\n",
        "# Plotting\n",
        "\n",
        "plt.plot([i for i in range(len(accuracies_0_9_fashion_mnist))], accuracies_0_9_fashion_mnist, color='blue', marker='o', label='Fashion Mnist CNN')\n",
        "\n",
        "\n",
        "\n",
        "plt.xlabel('Epoch')\n",
        "plt.ylabel('Accuracy')\n",
        "plt.title('Accuracy of CNN using Fashion Mnist Dataset')\n",
        "plt.legend()\n",
        "plt.show()"
      ],
      "metadata": {
        "colab": {
          "base_uri": "https://localhost:8080/",
          "height": 472
        },
        "id": "GQmldmu8dS6F",
        "outputId": "e2493de7-6c2c-4ffe-e5a3-ae10e18ba4e3"
      },
      "execution_count": 13,
      "outputs": [
        {
          "output_type": "display_data",
          "data": {
            "text/plain": [
              "<Figure size 640x480 with 1 Axes>"
            ],
            "image/png": "[encoded data removed]"
          },
          "metadata": {}
        }
      ]
    },
    {
      "cell_type": "markdown",
      "source": [
        "TASK 7 - TRAIN CNN ON CIFAR 10"
      ],
      "metadata": {
        "id": "3fRitnx3byGd"
      }
    },
    {
      "cell_type": "code",
      "source": [
        "import torch\n",
        "import torch.nn as nn\n",
        "import torch.optim as optim\n",
        "import torchvision\n",
        "import numpy as np\n",
        "import matplotlib as plt\n",
        "import time\n",
        "\n",
        "transform = torchvision.transforms.Compose([torchvision.transforms.ToTensor()])\n",
        "\n",
        "trainset = torchvision.datasets.CIFAR10(root='./data', train=True, download=True, transform=transform)\n",
        "testset = torchvision.datasets.CIFAR10(root='./data', train=False, download=True, transform=transform)\n",
        "\n"
      ],
      "metadata": {
        "colab": {
          "base_uri": "https://localhost:8080/"
        },
        "id": "eDcvuN4Kai6n",
        "outputId": "447979ca-1c45-4651-afb0-05b79a1c3156"
      },
      "execution_count": 30,
      "outputs": [
        {
          "output_type": "stream",
          "name": "stdout",
          "text": [
            "Files already downloaded and verified\n",
            "Files already downloaded and verified\n"
          ]
        }
      ]
    },
    {
      "cell_type": "code",
      "execution_count": 20,
      "metadata": {
        "id": "isYWQTG3W3M0",
        "colab": {
          "base_uri": "https://localhost:8080/"
        },
        "outputId": "5267ff6a-872a-41c4-94b3-7759805a8033"
      },
      "outputs": [
        {
          "output_type": "stream",
          "name": "stdout",
          "text": [
            "Epoch 0: model accuracy 52.74%\n",
            "Epoch 1: model accuracy 65.83%\n",
            "Epoch 2: model accuracy 72.98%\n",
            "Epoch 3: model accuracy 78.33%\n",
            "Epoch 4: model accuracy 83.50%\n",
            "Epoch 5: model accuracy 87.99%\n",
            "Epoch 6: model accuracy 89.72%\n",
            "Epoch 7: model accuracy 90.79%\n",
            "Epoch 8: model accuracy 95.28%\n",
            "Epoch 9: model accuracy 94.99%\n",
            "Epoch 10: model accuracy 95.47%\n",
            "Epoch 11: model accuracy 95.75%\n",
            "Epoch 12: model accuracy 96.50%\n",
            "Epoch 13: model accuracy 97.91%\n",
            "Epoch 14: model accuracy 97.25%\n",
            "Epoch 15: model accuracy 98.04%\n",
            "Epoch 16: model accuracy 98.27%\n",
            "Epoch 17: model accuracy 97.61%\n",
            "Epoch 18: model accuracy 98.68%\n",
            "Epoch 19: model accuracy 97.53%\n",
            "470.68903279304504\n"
          ]
        }
      ],
      "source": [
        "\n",
        "class CIFAR10Model(nn.Module):\n",
        "    def __init__(self):\n",
        "        super(CIFAR10Model, self).__init__()\n",
        "        self.conv1 = nn.Conv2d(in_channels=3, out_channels=64, kernel_size=3, stride=1, padding=1)\n",
        "        self.relu1 = nn.ReLU()\n",
        "        self.pool1 = nn.MaxPool2d(kernel_size=2, stride=2)\n",
        "\n",
        "        self.conv2 = nn.Conv2d(in_channels=64, out_channels=128, kernel_size=3, stride=1, padding=1)\n",
        "        self.relu2 = nn.ReLU()\n",
        "        self.pool2 = nn.MaxPool2d(kernel_size=2, stride=2)\n",
        "\n",
        "        self.flatten = nn.Flatten()\n",
        "\n",
        "        self.fc1 = nn.Linear(128 * 8 * 8, 128)\n",
        "        self.relu3 = nn.ReLU()\n",
        "\n",
        "        self.fc2 = nn.Linear(128, 128)\n",
        "        self.relu4 = nn.ReLU()\n",
        "\n",
        "        self.fc3 = nn.Linear(128, 10)\n",
        "\n",
        "    def forward(self, x):\n",
        "        x = self.pool1(self.relu1(self.conv1(x)))\n",
        "        x = self.pool2(self.relu2(self.conv2(x)))\n",
        "        x = self.flatten(x)\n",
        "        x = self.relu3(self.fc1(x))\n",
        "        x = self.relu4(self.fc2(x))\n",
        "        x = self.fc3(x)\n",
        "        return x\n",
        "start_time = time.time()\n",
        "\n",
        "model = CIFAR10Model().to(device)\n",
        "trainloader = torch.utils.data.DataLoader(trainset, batch_size=batch_size, shuffle=True, num_workers=4)\n",
        "testloader = torch.utils.data.DataLoader(trainset, batch_size=batch_size, shuffle=True, num_workers=4)\n",
        "\n",
        "loss_fn = nn.CrossEntropyLoss()\n",
        "optimizer = optim.SGD(model.parameters(), lr=0.01, momentum=0.9)\n",
        "accuracy_0_9 = []\n",
        "n_epochs = 20\n",
        "for epoch in range(n_epochs):\n",
        "    for inputs, labels in trainloader:\n",
        "        inputs, labels = inputs.to(device), labels.to(device)\n",
        "        y_pred = model(inputs)\n",
        "        loss = loss_fn(y_pred, labels)\n",
        "        optimizer.zero_grad()\n",
        "        loss.backward()\n",
        "        optimizer.step()\n",
        "\n",
        "    acc = 0\n",
        "    count = 0\n",
        "    for inputs, labels in testloader:\n",
        "        inputs, labels = inputs.to(device), labels.to(device)\n",
        "        y_pred = model(inputs)\n",
        "        acc += (torch.argmax(y_pred, 1) == labels).float().sum()\n",
        "        count += len(labels)\n",
        "    acc /= count\n",
        "    accuracy_0_9.append((epoch, acc*100))\n",
        "    print(\"Epoch %d: model accuracy %.2f%%\" % (epoch, acc*100))\n",
        "\n",
        "end_time = time.time()\n",
        "elapsed_time = end_time - start_time\n",
        "\n",
        "print(elapsed_time)"
      ]
    },
    {
      "cell_type": "code",
      "source": [
        "\n",
        "# Extract the accuracy values\n",
        "accuracies_0_9 = [val[1].cpu().numpy() for val in accuracy_0_9]\n",
        "print(np.shape(accuracies_0_9))\n",
        "\n",
        "# Plotting\n",
        "plt.plot([i for i in range(len(accuracies_0_9))], accuracies_0_9, color='green', marker='o', label='0.9 Momentum')\n",
        "\n",
        "\n",
        "\n",
        "plt.xlabel('Epoch')\n",
        "plt.ylabel('Accuracy')\n",
        "plt.title('Accuracy of CNN using CIFAR10 Dataset')\n",
        "plt.legend()\n",
        "plt.show()"
      ],
      "metadata": {
        "colab": {
          "base_uri": "https://localhost:8080/",
          "height": 489
        },
        "id": "QReWoYUhdm3l",
        "outputId": "bf860573-d822-4521-aca3-55ee6b1ac30d"
      },
      "execution_count": 27,
      "outputs": [
        {
          "output_type": "stream",
          "name": "stdout",
          "text": [
            "(20,)\n"
          ]
        },
        {
          "output_type": "display_data",
          "data": {
            "text/plain": [
              "<Figure size 640x480 with 1 Axes>"
            ],
            "image/png": "[encoded data removed]"
          },
          "metadata": {}
        }
      ]
    },
    {
      "cell_type": "markdown",
      "source": [
        "TASK 8 - OPTIMIZE CNN ON CIFAR WITH DIFFERENT LEARNING RATES"
      ],
      "metadata": {
        "id": "G49AyKOxb6t0"
      }
    },
    {
      "cell_type": "code",
      "source": [
        "start_time = time.time()\n",
        "\n",
        "model = CIFAR10Model().to(device)\n",
        "trainloader = torch.utils.data.DataLoader(trainset, batch_size=batch_size, shuffle=True, num_workers=4)\n",
        "testloader = torch.utils.data.DataLoader(trainset, batch_size=batch_size, shuffle=True, num_workers=4)\n",
        "\n",
        "loss_fn = nn.CrossEntropyLoss()\n",
        "optimizer = optim.SGD(model.parameters(), lr=0.01, momentum=0)\n",
        "accuracy_0 = []\n",
        "n_epochs = 20\n",
        "for epoch in range(n_epochs):\n",
        "    for inputs, labels in trainloader:\n",
        "        inputs, labels = inputs.to(device), labels.to(device)\n",
        "        y_pred = model(inputs)\n",
        "        loss = loss_fn(y_pred, labels)\n",
        "        optimizer.zero_grad()\n",
        "        loss.backward()\n",
        "        optimizer.step()\n",
        "\n",
        "    acc = 0\n",
        "    count = 0\n",
        "    for inputs, labels in testloader:\n",
        "        inputs, labels = inputs.to(device), labels.to(device)\n",
        "        y_pred = model(inputs)\n",
        "        acc += (torch.argmax(y_pred, 1) == labels).float().sum()\n",
        "        count += len(labels)\n",
        "    acc /= count\n",
        "    accuracy_0.append((epoch, acc*100))\n",
        "    print(\"Epoch %d: model accuracy %.2f%%\" % (epoch, acc*100))\n",
        "\n",
        "end_time = time.time()\n",
        "elapsed_time = end_time - start_time\n",
        "\n",
        "print(elapsed_time)"
      ],
      "metadata": {
        "colab": {
          "base_uri": "https://localhost:8080/"
        },
        "id": "aA_qPAnje73W",
        "outputId": "8b760bf4-e680-4acb-f616-f60d78aeb442"
      },
      "execution_count": 32,
      "outputs": [
        {
          "output_type": "stream",
          "name": "stdout",
          "text": [
            "Epoch 0: model accuracy 26.09%\n",
            "Epoch 1: model accuracy 39.85%\n",
            "Epoch 2: model accuracy 46.73%\n",
            "Epoch 3: model accuracy 52.98%\n",
            "Epoch 4: model accuracy 50.56%\n",
            "Epoch 5: model accuracy 59.48%\n",
            "Epoch 6: model accuracy 60.33%\n",
            "Epoch 7: model accuracy 64.49%\n",
            "Epoch 8: model accuracy 67.16%\n",
            "Epoch 9: model accuracy 70.58%\n",
            "Epoch 10: model accuracy 72.94%\n",
            "Epoch 11: model accuracy 73.34%\n",
            "Epoch 12: model accuracy 73.02%\n",
            "Epoch 13: model accuracy 71.40%\n",
            "Epoch 14: model accuracy 79.62%\n",
            "Epoch 15: model accuracy 79.33%\n",
            "Epoch 16: model accuracy 84.04%\n",
            "Epoch 17: model accuracy 83.15%\n",
            "Epoch 18: model accuracy 85.70%\n",
            "Epoch 19: model accuracy 88.51%\n",
            "465.3555357456207\n"
          ]
        }
      ]
    },
    {
      "cell_type": "code",
      "source": [
        "start_time = time.time()\n",
        "\n",
        "model = CIFAR10Model().to(device)\n",
        "trainloader = torch.utils.data.DataLoader(trainset, batch_size=batch_size, shuffle=True, num_workers=4)\n",
        "testloader = torch.utils.data.DataLoader(trainset, batch_size=batch_size, shuffle=True, num_workers=4)\n",
        "\n",
        "loss_fn = nn.CrossEntropyLoss()\n",
        "optimizer = optim.SGD(model.parameters(), lr=0.01, momentum=2)\n",
        "accuracy_2 = []\n",
        "n_epochs = 20\n",
        "for epoch in range(n_epochs):\n",
        "    for inputs, labels in trainloader:\n",
        "        inputs, labels = inputs.to(device), labels.to(device)\n",
        "        y_pred = model(inputs)\n",
        "        loss = loss_fn(y_pred, labels)\n",
        "        optimizer.zero_grad()\n",
        "        loss.backward()\n",
        "        optimizer.step()\n",
        "\n",
        "    acc = 0\n",
        "    count = 0\n",
        "    for inputs, labels in testloader:\n",
        "        inputs, labels = inputs.to(device), labels.to(device)\n",
        "        y_pred = model(inputs)\n",
        "        acc += (torch.argmax(y_pred, 1) == labels).float().sum()\n",
        "        count += len(labels)\n",
        "    acc /= count\n",
        "    accuracy_2.append((epoch, acc*100))\n",
        "    print(\"Epoch %d: model accuracy %.2f%%\" % (epoch, acc*100))\n",
        "\n",
        "end_time = time.time()\n",
        "elapsed_time = end_time - start_time\n",
        "\n",
        "print(elapsed_time)"
      ],
      "metadata": {
        "colab": {
          "base_uri": "https://localhost:8080/"
        },
        "id": "QJ07PIcsfA62",
        "outputId": "af0cdce5-c3c4-4420-8c8a-2d952ac97049"
      },
      "execution_count": 46,
      "outputs": [
        {
          "output_type": "stream",
          "name": "stderr",
          "text": [
            "/usr/local/lib/python3.10/dist-packages/torch/utils/data/dataloader.py:557: UserWarning: This DataLoader will create 4 worker processes in total. Our suggested max number of worker in current system is 2, which is smaller than what this DataLoader is going to create. Please be aware that excessive worker creation might get DataLoader running slow or even freeze, lower the worker number to avoid potential slowness/freeze if necessary.\n",
            "  warnings.warn(_create_warning_msg(\n"
          ]
        },
        {
          "output_type": "stream",
          "name": "stdout",
          "text": [
            "Epoch 0: model accuracy 10.00%\n",
            "Epoch 1: model accuracy 10.00%\n",
            "Epoch 2: model accuracy 10.00%\n",
            "Epoch 3: model accuracy 10.00%\n",
            "Epoch 4: model accuracy 10.00%\n",
            "Epoch 5: model accuracy 10.00%\n",
            "Epoch 6: model accuracy 10.00%\n",
            "Epoch 7: model accuracy 10.00%\n",
            "Epoch 8: model accuracy 10.00%\n",
            "Epoch 9: model accuracy 10.00%\n",
            "Epoch 10: model accuracy 10.00%\n",
            "Epoch 11: model accuracy 10.00%\n",
            "Epoch 12: model accuracy 10.00%\n",
            "Epoch 13: model accuracy 10.00%\n",
            "Epoch 14: model accuracy 10.00%\n",
            "Epoch 15: model accuracy 10.00%\n",
            "Epoch 16: model accuracy 10.00%\n",
            "Epoch 17: model accuracy 10.00%\n",
            "Epoch 18: model accuracy 10.00%\n",
            "Epoch 19: model accuracy 10.00%\n",
            "479.0539267063141\n"
          ]
        }
      ]
    },
    {
      "cell_type": "code",
      "source": [
        "start_time = time.time()\n",
        "\n",
        "model = CIFAR10Model().to(device)\n",
        "trainloader = torch.utils.data.DataLoader(trainset, batch_size=batch_size, shuffle=True, num_workers=4)\n",
        "testloader = torch.utils.data.DataLoader(trainset, batch_size=batch_size, shuffle=True, num_workers=4)\n",
        "\n",
        "loss_fn = nn.CrossEntropyLoss()\n",
        "optimizer = optim.SGD(model.parameters(), lr=0.01, momentum=0.5)\n",
        "accuracy_0_5= []\n",
        "n_epochs = 20\n",
        "for epoch in range(n_epochs):\n",
        "    for inputs, labels in trainloader:\n",
        "        inputs, labels = inputs.to(device), labels.to(device)\n",
        "        y_pred = model(inputs)\n",
        "        loss = loss_fn(y_pred, labels)\n",
        "        optimizer.zero_grad()\n",
        "        loss.backward()\n",
        "        optimizer.step()\n",
        "\n",
        "    acc = 0\n",
        "    count = 0\n",
        "    for inputs, labels in testloader:\n",
        "        inputs, labels = inputs.to(device), labels.to(device)\n",
        "        y_pred = model(inputs)\n",
        "        acc += (torch.argmax(y_pred, 1) == labels).float().sum()\n",
        "        count += len(labels)\n",
        "    acc /= count\n",
        "    accuracy_0_5.append((epoch, acc*100))\n",
        "    print(\"Epoch %d: model accuracy %.2f%%\" % (epoch, acc*100))\n",
        "\n",
        "end_time = time.time()\n",
        "elapsed_time = end_time - start_time\n",
        "\n",
        "print(elapsed_time)"
      ],
      "metadata": {
        "colab": {
          "base_uri": "https://localhost:8080/"
        },
        "id": "PEI-hNW7vNlV",
        "outputId": "91ad2f50-d6b6-429d-a5b3-f833d2f0ce84"
      },
      "execution_count": 47,
      "outputs": [
        {
          "output_type": "stream",
          "name": "stderr",
          "text": [
            "/usr/local/lib/python3.10/dist-packages/torch/utils/data/dataloader.py:557: UserWarning: This DataLoader will create 4 worker processes in total. Our suggested max number of worker in current system is 2, which is smaller than what this DataLoader is going to create. Please be aware that excessive worker creation might get DataLoader running slow or even freeze, lower the worker number to avoid potential slowness/freeze if necessary.\n",
            "  warnings.warn(_create_warning_msg(\n"
          ]
        },
        {
          "output_type": "stream",
          "name": "stdout",
          "text": [
            "Epoch 0: model accuracy 39.52%\n",
            "Epoch 1: model accuracy 49.41%\n",
            "Epoch 2: model accuracy 55.79%\n",
            "Epoch 3: model accuracy 60.34%\n",
            "Epoch 4: model accuracy 64.40%\n",
            "Epoch 5: model accuracy 70.63%\n",
            "Epoch 6: model accuracy 73.68%\n",
            "Epoch 7: model accuracy 74.95%\n",
            "Epoch 8: model accuracy 77.71%\n",
            "Epoch 9: model accuracy 79.83%\n",
            "Epoch 10: model accuracy 83.66%\n",
            "Epoch 11: model accuracy 87.53%\n",
            "Epoch 12: model accuracy 89.72%\n",
            "Epoch 13: model accuracy 87.54%\n",
            "Epoch 14: model accuracy 92.52%\n",
            "Epoch 15: model accuracy 93.82%\n",
            "Epoch 16: model accuracy 96.65%\n",
            "Epoch 17: model accuracy 95.12%\n",
            "Epoch 18: model accuracy 95.82%\n",
            "Epoch 19: model accuracy 97.52%\n",
            "470.50572514533997\n"
          ]
        }
      ]
    },
    {
      "cell_type": "code",
      "source": [
        "accuracy_ADAM = []\n",
        "start_time = time.time()\n",
        "\n",
        "model = CIFAR10Model().to(device)\n",
        "loss_fn = nn.CrossEntropyLoss()\n",
        "optimizer = optim.Adam(model.parameters(), lr=0.01)\n",
        "\n",
        "n_epochs = 20\n",
        "for epoch in range(n_epochs):\n",
        "    for inputs, labels in trainloader:\n",
        "        inputs, labels = inputs.to(device), labels.to(device)\n",
        "        y_pred = model(inputs)\n",
        "        loss = loss_fn(y_pred, labels)\n",
        "        optimizer.zero_grad()\n",
        "        loss.backward()\n",
        "        optimizer.step()\n",
        "\n",
        "    acc = 0\n",
        "    count = 0\n",
        "    for inputs, labels in testloader:\n",
        "        inputs, labels = inputs.to(device), labels.to(device)\n",
        "        y_pred = model(inputs)\n",
        "        acc += (torch.argmax(y_pred, 1) == labels).float().sum()\n",
        "        count += len(labels)\n",
        "    acc /= count\n",
        "    accuracy_ADAM.append((epoch, acc*100))\n",
        "    print(\"Epoch %d: model accuracy %.2f%%\" % (epoch, acc*100))\n",
        "\n",
        "end_time = time.time()\n",
        "elapsed_time = end_time - start_time\n",
        "\n",
        "print(elapsed_time)"
      ],
      "metadata": {
        "colab": {
          "base_uri": "https://localhost:8080/"
        },
        "id": "KiZUNiTijq7b",
        "outputId": "216bfdc1-d748-4634-acf7-b92ce665c6fb"
      },
      "execution_count": 38,
      "outputs": [
        {
          "output_type": "stream",
          "name": "stdout",
          "text": [
            "Epoch 0: model accuracy 32.60%\n",
            "Epoch 1: model accuracy 38.73%\n",
            "Epoch 2: model accuracy 42.98%\n",
            "Epoch 3: model accuracy 43.33%\n",
            "Epoch 4: model accuracy 44.70%\n",
            "Epoch 5: model accuracy 44.72%\n",
            "Epoch 6: model accuracy 45.52%\n",
            "Epoch 7: model accuracy 45.65%\n",
            "Epoch 8: model accuracy 48.04%\n",
            "Epoch 9: model accuracy 47.05%\n",
            "Epoch 10: model accuracy 49.18%\n",
            "Epoch 11: model accuracy 48.13%\n",
            "Epoch 12: model accuracy 51.15%\n",
            "Epoch 13: model accuracy 50.14%\n",
            "Epoch 14: model accuracy 50.34%\n",
            "Epoch 15: model accuracy 50.94%\n",
            "Epoch 16: model accuracy 50.93%\n",
            "Epoch 17: model accuracy 52.45%\n",
            "Epoch 18: model accuracy 51.15%\n",
            "Epoch 19: model accuracy 52.82%\n",
            "461.28720021247864\n"
          ]
        }
      ]
    },
    {
      "cell_type": "code",
      "source": [
        "import matplotlib.pyplot as plt\n",
        "\n",
        "# Extract the accuracy values\n",
        "accuracies_0 = [val[1].cpu().numpy() for val in accuracy_0]\n",
        "accuracies_2 = [val[1].cpu().numpy() for val in accuracy_2]\n",
        "accuracies_0_9 = [val[1].cpu().numpy() for val in accuracy_0_9]\n",
        "accuracies_ADAM = [val[1].cpu().numpy() for val in accuracy_ADAM]\n",
        "accuracies_0_5 = [val[1].cpu().numpy() for val in accuracy_0_5]\n",
        "\n",
        "\n",
        "# Plotting\n",
        "plt.plot([i for i in range(len(accuracies_0))], accuracies_0, color='blue', marker='o', label='0 Momentum')\n",
        "plt.plot([i for i in range(len(accuracies_2))], accuracies_2, color='red', marker='o', label='2 Momentum')\n",
        "plt.plot([i for i in range(len(accuracies_0_5))], accuracies_0_5, color='pink', marker='o', label='0.5 Momentum')\n",
        "plt.plot([i for i in range(len(accuracies_0_9))], accuracies_0_9, color='green', marker='o', label='0.9 Momentum')\n",
        "plt.plot([i for i in range(len(accuracies_ADAM))], accuracies_ADAM, color='yellow', marker='o', label='Adams')\n",
        "\n",
        "\n",
        "\n",
        "plt.xlabel('Epoch')\n",
        "plt.ylabel('Accuracy')\n",
        "plt.title('CNN Accuracy Under Different Settings for CIFAR10')\n",
        "plt.legend()\n",
        "plt.show()"
      ],
      "metadata": {
        "colab": {
          "base_uri": "https://localhost:8080/",
          "height": 472
        },
        "id": "Q4jhGspYkibM",
        "outputId": "8a9ed315-89a2-44e0-8e6a-6ba3269836d2"
      },
      "execution_count": 51,
      "outputs": [
        {
          "output_type": "display_data",
          "data": {
            "text/plain": [
              "<Figure size 640x480 with 1 Axes>"
            ],
            "image/png": "[encoded data removed]"
          },
          "metadata": {}
        }
      ]
    }
  ],
  "metadata": {
    "accelerator": "GPU",
    "colab": {
      "provenance": [],
      "gpuType": "T4"
    },
    "kernelspec": {
      "display_name": "Python 3",
      "name": "python3"
    },
    "language_info": {
      "name": "python"
    }
  },
  "nbformat": 4,
  "nbformat_minor": 0
}